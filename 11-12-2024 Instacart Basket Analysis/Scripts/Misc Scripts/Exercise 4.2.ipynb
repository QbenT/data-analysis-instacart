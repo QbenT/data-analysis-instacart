{
 "cells": [
  {
   "cell_type": "markdown",
   "id": "8553e0fb-db6a-4b1a-b40c-9e1d1cac75ae",
   "metadata": {},
   "source": [
    "# Exercise 4.2"
   ]
  },
  {
   "cell_type": "markdown",
   "id": "2787c0c3-aeb1-4a50-8419-5a060e435727",
   "metadata": {},
   "source": [
    "## Importing libraries"
   ]
  },
  {
   "cell_type": "code",
   "execution_count": 35,
   "id": "cc646b15-cc06-49bf-8d3b-ff0f1b3cfe4f",
   "metadata": {},
   "outputs": [],
   "source": [
    "# Step 5\n",
    "# Import libraries"
   ]
  },
  {
   "cell_type": "code",
   "execution_count": 7,
   "id": "e431e8af-5e99-413e-9176-8b6bc0346ad2",
   "metadata": {},
   "outputs": [],
   "source": [
    "import pandas as pd\n",
    "import numpy as np\n",
    "import os"
   ]
  },
  {
   "cell_type": "markdown",
   "id": "db107d13-5a2b-4f7f-8163-d0f77c32fc23",
   "metadata": {},
   "source": [
    "## Python data types"
   ]
  },
  {
   "cell_type": "code",
   "execution_count": 33,
   "id": "83992989-5fb2-4b0e-9c49-f7c9d7e29d58",
   "metadata": {},
   "outputs": [],
   "source": [
    "# Step 7"
   ]
  },
  {
   "cell_type": "code",
   "execution_count": 17,
   "id": "253b5ea6-0197-4fd2-8383-e44b5d1b31a5",
   "metadata": {},
   "outputs": [],
   "source": [
    "# 1"
   ]
  },
  {
   "cell_type": "code",
   "execution_count": 13,
   "id": "aa872a10-b194-42fb-a9f9-249adaa2928f",
   "metadata": {},
   "outputs": [],
   "source": [
    "x = 50\n"
   ]
  },
  {
   "cell_type": "code",
   "execution_count": 15,
   "id": "36735592-9ca8-432d-82d5-e31cde4f6422",
   "metadata": {},
   "outputs": [
    {
     "data": {
      "text/plain": [
       "100"
      ]
     },
     "execution_count": 15,
     "metadata": {},
     "output_type": "execute_result"
    }
   ],
   "source": [
    "x + x"
   ]
  },
  {
   "cell_type": "code",
   "execution_count": 19,
   "id": "d34a5310-1d8d-4867-9419-7d7afbf75032",
   "metadata": {},
   "outputs": [],
   "source": [
    "# 2"
   ]
  },
  {
   "cell_type": "code",
   "execution_count": 21,
   "id": "92400e6f-c235-4227-a863-a67174283034",
   "metadata": {},
   "outputs": [],
   "source": [
    "y = 150"
   ]
  },
  {
   "cell_type": "code",
   "execution_count": 23,
   "id": "92cf4675-3f42-415c-878f-967a6d1ebe10",
   "metadata": {},
   "outputs": [
    {
     "data": {
      "text/plain": [
       "100"
      ]
     },
     "execution_count": 23,
     "metadata": {},
     "output_type": "execute_result"
    }
   ],
   "source": [
    "y - x"
   ]
  },
  {
   "cell_type": "code",
   "execution_count": 25,
   "id": "529c2c44-31db-407a-95c8-704a12778a26",
   "metadata": {},
   "outputs": [],
   "source": [
    "# 3"
   ]
  },
  {
   "cell_type": "code",
   "execution_count": 27,
   "id": "6a64e132-8d3c-4e65-9a89-f64e6fd1ad3b",
   "metadata": {},
   "outputs": [],
   "source": [
    "z = 250"
   ]
  },
  {
   "cell_type": "code",
   "execution_count": 31,
   "id": "42cc3713-ab21-47d6-85ef-0c4762794311",
   "metadata": {},
   "outputs": [
    {
     "data": {
      "text/plain": [
       "100"
      ]
     },
     "execution_count": 31,
     "metadata": {},
     "output_type": "execute_result"
    }
   ],
   "source": [
    "z - y"
   ]
  },
  {
   "cell_type": "code",
   "execution_count": 45,
   "id": "a378d458-7a15-4305-b085-22a7a213b157",
   "metadata": {},
   "outputs": [],
   "source": [
    "# Step 8"
   ]
  },
  {
   "cell_type": "code",
   "execution_count": 39,
   "id": "4d271e13-be2f-4206-8862-7e8bad2e2da5",
   "metadata": {},
   "outputs": [],
   "source": [
    "a = 2.568"
   ]
  },
  {
   "cell_type": "code",
   "execution_count": 41,
   "id": "13328622-c216-48ac-aa52-e047841bdd2b",
   "metadata": {},
   "outputs": [],
   "source": [
    "b = 6.698"
   ]
  },
  {
   "cell_type": "code",
   "execution_count": 43,
   "id": "ca22575c-e6d8-4dcf-a4bc-c927d62bfa64",
   "metadata": {},
   "outputs": [
    {
     "data": {
      "text/plain": [
       "2.608255451713396"
      ]
     },
     "execution_count": 43,
     "metadata": {},
     "output_type": "execute_result"
    }
   ],
   "source": [
    "b / a"
   ]
  },
  {
   "cell_type": "code",
   "execution_count": 47,
   "id": "98507606-0f4e-470b-bb5b-7222987f9960",
   "metadata": {},
   "outputs": [],
   "source": [
    "# Step 9 "
   ]
  },
  {
   "cell_type": "code",
   "execution_count": 49,
   "id": "85623b17-ecba-45d2-bc3e-4121fa7ddc95",
   "metadata": {},
   "outputs": [],
   "source": [
    "c = 'hap'\n",
    "d = 'py'"
   ]
  },
  {
   "cell_type": "code",
   "execution_count": 51,
   "id": "37f3d0c0-8434-41ae-b17f-9c28cf54c734",
   "metadata": {},
   "outputs": [
    {
     "data": {
      "text/plain": [
       "'happy'"
      ]
     },
     "execution_count": 51,
     "metadata": {},
     "output_type": "execute_result"
    }
   ],
   "source": [
    "c + d"
   ]
  },
  {
   "cell_type": "code",
   "execution_count": 57,
   "id": "aee4bf53-8186-4df6-99c3-177f7025cc80",
   "metadata": {},
   "outputs": [],
   "source": [
    "# Step 10"
   ]
  },
  {
   "cell_type": "code",
   "execution_count": 53,
   "id": "edb9752b-14da-4694-b96a-2c691642d6f4",
   "metadata": {},
   "outputs": [],
   "source": [
    "e = 'The quick brown fox'\n",
    "f = ' jumped over the lazy dog.'"
   ]
  },
  {
   "cell_type": "code",
   "execution_count": 55,
   "id": "0f485ea0-e730-45fa-82c3-4fb9694f88d1",
   "metadata": {},
   "outputs": [
    {
     "data": {
      "text/plain": [
       "'The quick brown fox jumped over the lazy dog.'"
      ]
     },
     "execution_count": 55,
     "metadata": {},
     "output_type": "execute_result"
    }
   ],
   "source": [
    "e + f"
   ]
  },
  {
   "cell_type": "code",
   "execution_count": 59,
   "id": "b10d2553-eecd-4633-8582-91e3bd551502",
   "metadata": {},
   "outputs": [],
   "source": [
    "# Bonus Task"
   ]
  },
  {
   "cell_type": "code",
   "execution_count": 61,
   "id": "2cf5ab8a-0150-48d5-9270-3d33ee13737f",
   "metadata": {},
   "outputs": [
    {
     "data": {
      "text/plain": [
       "'happyhappyhappyhappyhappyhappyhappyhappyhappyhappyhappyhappyhappyhappyhappyhappyhappyhappyhappyhappyhappyhappyhappyhappyhappyhappyhappyhappyhappyhappyhappyhappyhappyhappyhappyhappyhappyhappyhappyhappyhappyhappyhappyhappyhappyhappyhappyhappyhappyhappyhappyhappyhappyhappyhappyhappyhappyhappyhappyhappyhappyhappyhappyhappyhappyhappyhappyhappyhappyhappyhappyhappyhappyhappyhappyhappyhappyhappyhappyhappyhappyhappyhappyhappyhappyhappyhappyhappyhappyhappyhappyhappyhappyhappyhappyhappyhappyhappyhappyhappy'"
      ]
     },
     "execution_count": 61,
     "metadata": {},
     "output_type": "execute_result"
    }
   ],
   "source": [
    "(c + d) * 100\n"
   ]
  },
  {
   "cell_type": "code",
   "execution_count": null,
   "id": "69bbc97e-3d1a-4fc5-b536-f84fe84dffab",
   "metadata": {},
   "outputs": [],
   "source": []
  }
 ],
 "metadata": {
  "kernelspec": {
   "display_name": "Python 3 (ipykernel)",
   "language": "python",
   "name": "python3"
  },
  "language_info": {
   "codemirror_mode": {
    "name": "ipython",
    "version": 3
   },
   "file_extension": ".py",
   "mimetype": "text/x-python",
   "name": "python",
   "nbconvert_exporter": "python",
   "pygments_lexer": "ipython3",
   "version": "3.12.7"
  }
 },
 "nbformat": 4,
 "nbformat_minor": 5
}
