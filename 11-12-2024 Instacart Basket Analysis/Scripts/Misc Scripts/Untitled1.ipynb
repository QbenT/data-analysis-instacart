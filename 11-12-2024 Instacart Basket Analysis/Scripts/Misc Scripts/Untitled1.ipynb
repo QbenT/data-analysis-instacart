{
 "cells": [
  {
   "cell_type": "code",
   "execution_count": null,
   "id": "d5c5b441-a941-4866-8feb-4223c5d64504",
   "metadata": {},
   "outputs": [],
   "source": []
  }
 ],
 "metadata": {
  "kernelspec": {
   "display_name": "",
   "name": ""
  },
  "language_info": {
   "name": ""
  }
 },
 "nbformat": 4,
 "nbformat_minor": 5
}
