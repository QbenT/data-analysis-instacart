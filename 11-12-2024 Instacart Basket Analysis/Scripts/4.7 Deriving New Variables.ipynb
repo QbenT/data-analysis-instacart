{
 "cells": [
  {
   "cell_type": "markdown",
   "id": "b430edfd-5191-4c7d-95d8-fe8a5d3b6125",
   "metadata": {},
   "source": [
    "# Exercise 4.7\n"
   ]
  },
  {
   "cell_type": "markdown",
   "id": "2996f38d-6eba-4211-9402-72146ed874e1",
   "metadata": {},
   "source": [
    "# 01. Importing Libraries"
   ]
  },
  {
   "cell_type": "code",
   "execution_count": 37,
   "id": "aeffc9e7-6376-4cbd-b6b5-74de49e30c40",
   "metadata": {},
   "outputs": [],
   "source": [
    "# import libraries\n",
    "import pandas as pd\n",
    "import numpy as np\n",
    "import os"
   ]
  },
  {
   "cell_type": "markdown",
   "id": "f79b01d6-121c-43a3-833d-3b127170602c",
   "metadata": {},
   "source": [
    "# 02. Importing Data"
   ]
  },
  {
   "cell_type": "code",
   "execution_count": 40,
   "id": "0fd06b5e-3b77-43a0-b1e3-27210ca39ac8",
   "metadata": {},
   "outputs": [],
   "source": [
    "# create path\n",
    "path = r'C:\\Users\\kthav\\My Pc\\Desktop\\Career Foundry\\Data Immersion\\Python Fundamentals for Data Analytics\\11-12-2024 Instacart Basket Analysis'"
   ]
  },
  {
   "cell_type": "code",
   "execution_count": 42,
   "id": "a6a07f88-11ff-4778-a240-26b209bc2a9b",
   "metadata": {},
   "outputs": [],
   "source": [
    "# import ords_prods_merge.pkl as df_opm\n",
    "df_opm = pd.read_pickle(os.path.join(path, 'Data', 'Prepared Data', 'ords_prods_merge.pkl'))"
   ]
  },
  {
   "cell_type": "code",
   "execution_count": 46,
   "id": "fdf4e5f8-e545-4ed8-ac06-12b3da9a71d1",
   "metadata": {},
   "outputs": [
    {
     "data": {
      "text/plain": [
       "(32251812, 15)"
      ]
     },
     "execution_count": 46,
     "metadata": {},
     "output_type": "execute_result"
    }
   ],
   "source": [
    "df_opm.shape\n"
   ]
  },
  {
   "cell_type": "markdown",
   "id": "d045c597-7099-41df-9a59-edef66005927",
   "metadata": {},
   "source": [
    "# 03. Deriving New Variables"
   ]
  },
  {
   "cell_type": "code",
   "execution_count": 9,
   "id": "efa378c8-c729-4f26-9522-9154d504381b",
   "metadata": {},
   "outputs": [],
   "source": [
    "df = df_opm[:1000000]"
   ]
  },
  {
   "cell_type": "code",
   "execution_count": 11,
   "id": "7e2677e2-17e2-48d0-9282-0c915b53eb9f",
   "metadata": {},
   "outputs": [
    {
     "data": {
      "text/plain": [
       "(1000000, 15)"
      ]
     },
     "execution_count": 11,
     "metadata": {},
     "output_type": "execute_result"
    }
   ],
   "source": [
    "df.shape"
   ]
  },
  {
   "cell_type": "code",
   "execution_count": 13,
   "id": "0540f653-ac6b-4cea-bb74-946fa56bbb74",
   "metadata": {},
   "outputs": [],
   "source": [
    "# Define a function\n",
    "\n",
    "def price_label(row):\n",
    "\n",
    "    if row['prices'] <= 5:\n",
    "        return 'low range product'\n",
    "    elif (row['prices'] > 5) and (row['prices'] <= 15):\n",
    "        return 'Mid range product'\n",
    "    elif row ['prices'] > 15:\n",
    "        return 'High range product'\n",
    "    else: return np.nan"
   ]
  },
  {
   "cell_type": "code",
   "execution_count": 15,
   "id": "e7573a37-7cb3-416b-be5e-1d36d7854af9",
   "metadata": {},
   "outputs": [
    {
     "name": "stderr",
     "output_type": "stream",
     "text": [
      "C:\\Users\\kthav\\AppData\\Local\\Temp\\ipykernel_14256\\93659844.py:3: SettingWithCopyWarning: \n",
      "A value is trying to be set on a copy of a slice from a DataFrame.\n",
      "Try using .loc[row_indexer,col_indexer] = value instead\n",
      "\n",
      "See the caveats in the documentation: https://pandas.pydata.org/pandas-docs/stable/user_guide/indexing.html#returning-a-view-versus-a-copy\n",
      "  df['price_range'] = df.apply(price_label, axis=1)\n"
     ]
    }
   ],
   "source": [
    "# Apply the function\n",
    "\n",
    "df['price_range'] = df.apply(price_label, axis=1)"
   ]
  },
  {
   "cell_type": "code",
   "execution_count": 17,
   "id": "7af17244-11df-4cfc-b102-345be8d4ed81",
   "metadata": {},
   "outputs": [
    {
     "data": {
      "text/plain": [
       "price_range\n",
       "Mid range product     673183\n",
       "low range product     314392\n",
       "High range product     12425\n",
       "Name: count, dtype: int64"
      ]
     },
     "execution_count": 17,
     "metadata": {},
     "output_type": "execute_result"
    }
   ],
   "source": [
    "df['price_range'].value_counts(dropna = False)"
   ]
  },
  {
   "cell_type": "code",
   "execution_count": 19,
   "id": "040d5b03-db30-4b09-8f73-357d65f0260c",
   "metadata": {},
   "outputs": [
    {
     "data": {
      "text/plain": [
       "99999.0"
      ]
     },
     "execution_count": 19,
     "metadata": {},
     "output_type": "execute_result"
    }
   ],
   "source": [
    "# check max values \n",
    "df['prices'].max()"
   ]
  },
  {
   "cell_type": "code",
   "execution_count": 21,
   "id": "5f36e38c-040f-4950-92e7-8bdd30784548",
   "metadata": {},
   "outputs": [
    {
     "data": {
      "text/plain": [
       "Index(['order_id', 'user_id', 'order_number', 'orders_day_of_week',\n",
       "       'order_hour_of_day', 'days_since_last_order', 'first_order',\n",
       "       'product_id', 'add_to_cart_order', 'reordered', 'product_name',\n",
       "       'aisle_id', 'department_id', 'prices', '_merge', 'price_range'],\n",
       "      dtype='object')"
      ]
     },
     "execution_count": 21,
     "metadata": {},
     "output_type": "execute_result"
    }
   ],
   "source": [
    "df.columns"
   ]
  },
  {
   "cell_type": "code",
   "execution_count": 23,
   "id": "f27b8dfc-d7ea-48d5-adc2-f026fe0a9e7a",
   "metadata": {},
   "outputs": [
    {
     "name": "stdout",
     "output_type": "stream",
     "text": [
      "The value 99999.0 appears 15 times in the 'prices' column.\n"
     ]
    }
   ],
   "source": [
    "# count the number of time 99999.0 appears in 'prices'\n",
    "count = (df['prices'] == 99999.0).sum()\n",
    "print(f\"The value 99999.0 appears {count} times in the 'prices' column.\")\n"
   ]
  },
  {
   "cell_type": "code",
   "execution_count": 25,
   "id": "2fe7f599-ee1b-49ed-9714-d35ff77d1e97",
   "metadata": {},
   "outputs": [
    {
     "name": "stdout",
     "output_type": "stream",
     "text": [
      "        order_id  user_id  order_number  orders_day_of_week  \\\n",
      "128911    183964      873             3                   0   \n",
      "128924   1851256      873             4                   6   \n",
      "284218   1915696     1893             1                   5   \n",
      "284229   2763293     1893             2                   4   \n",
      "284252   2564805     1893             4                   1   \n",
      "499076    949012     3339             1                   1   \n",
      "499119    420057     3339             2                   0   \n",
      "499141   1511997     3339             3                   1   \n",
      "499158   1153448     3339             4                   4   \n",
      "499180   2669259     3339             5                   4   \n",
      "527458    965345     3531            27                   2   \n",
      "767471   2291230     5034             6                   1   \n",
      "767485   2324832     5034             7                   6   \n",
      "953246    323856     6175            37                   2   \n",
      "960509    842052     6222            10                   1   \n",
      "\n",
      "        order_hour_of_day  days_since_last_order  first_order  product_id  \\\n",
      "128911                 10                    7.0        False       33664   \n",
      "128924                 12                   13.0        False       33664   \n",
      "284218                 17                    NaN         True       33664   \n",
      "284229                 16                   13.0        False       33664   \n",
      "284252                 17                   30.0        False       33664   \n",
      "499076                 14                    NaN         True       33664   \n",
      "499119                 11                   13.0        False       33664   \n",
      "499141                 18                    8.0        False       33664   \n",
      "499158                 16                   10.0        False       33664   \n",
      "499180                 14                   21.0        False       33664   \n",
      "527458                 19                    8.0        False       33664   \n",
      "767471                 17                   30.0        False       33664   \n",
      "767485                 11                   30.0        False       33664   \n",
      "953246                  9                    6.0        False       33664   \n",
      "960509                 18                   17.0        False       33664   \n",
      "\n",
      "        add_to_cart_order  reordered           product_name  aisle_id  \\\n",
      "128911                 11          0  2 % Reduced Fat  Milk        84   \n",
      "128924                  8          1  2 % Reduced Fat  Milk        84   \n",
      "284218                 10          0  2 % Reduced Fat  Milk        84   \n",
      "284229                  6          1  2 % Reduced Fat  Milk        84   \n",
      "284252                  3          1  2 % Reduced Fat  Milk        84   \n",
      "499076                  8          0  2 % Reduced Fat  Milk        84   \n",
      "499119                 29          1  2 % Reduced Fat  Milk        84   \n",
      "499141                 14          1  2 % Reduced Fat  Milk        84   \n",
      "499158                  1          1  2 % Reduced Fat  Milk        84   \n",
      "499180                  6          1  2 % Reduced Fat  Milk        84   \n",
      "527458                  2          0  2 % Reduced Fat  Milk        84   \n",
      "767471                  3          0  2 % Reduced Fat  Milk        84   \n",
      "767485                  9          1  2 % Reduced Fat  Milk        84   \n",
      "953246                  6          0  2 % Reduced Fat  Milk        84   \n",
      "960509                  2          0  2 % Reduced Fat  Milk        84   \n",
      "\n",
      "        department_id   prices _merge         price_range  \n",
      "128911             16  99999.0   both  High range product  \n",
      "128924             16  99999.0   both  High range product  \n",
      "284218             16  99999.0   both  High range product  \n",
      "284229             16  99999.0   both  High range product  \n",
      "284252             16  99999.0   both  High range product  \n",
      "499076             16  99999.0   both  High range product  \n",
      "499119             16  99999.0   both  High range product  \n",
      "499141             16  99999.0   both  High range product  \n",
      "499158             16  99999.0   both  High range product  \n",
      "499180             16  99999.0   both  High range product  \n",
      "527458             16  99999.0   both  High range product  \n",
      "767471             16  99999.0   both  High range product  \n",
      "767485             16  99999.0   both  High range product  \n",
      "953246             16  99999.0   both  High range product  \n",
      "960509             16  99999.0   both  High range product  \n"
     ]
    }
   ],
   "source": [
    "# filter rows with value 99999.0\n",
    "filtered_rows = df[df['prices'] == 99999.0]\n",
    "print(filtered_rows)\n"
   ]
  },
  {
   "cell_type": "code",
   "execution_count": 29,
   "id": "18ee7ccb-896a-4b7c-87ff-c1578b03af5f",
   "metadata": {},
   "outputs": [
    {
     "data": {
      "text/plain": [
       "1.0"
      ]
     },
     "execution_count": 29,
     "metadata": {},
     "output_type": "execute_result"
    }
   ],
   "source": [
    "# Check min values\n",
    "df['prices'].min()"
   ]
  },
  {
   "cell_type": "code",
   "execution_count": 31,
   "id": "48eab2e4-d804-45b8-bf4f-dc964e75094f",
   "metadata": {},
   "outputs": [
    {
     "name": "stdout",
     "output_type": "stream",
     "text": [
      "        order_id  user_id  order_number  orders_day_of_week  \\\n",
      "398      2086598        6             1                   5   \n",
      "401       298250        6             2                   4   \n",
      "436      2402008        7             2                   1   \n",
      "465       121053        7             3                   0   \n",
      "480      1695742        7             4                   2   \n",
      "...          ...      ...           ...                 ...   \n",
      "999329   2442470     6468             9                   1   \n",
      "999332   2442470     6468             9                   1   \n",
      "999388     14321     6468            13                   5   \n",
      "999394     14321     6468            13                   5   \n",
      "999880   2720655     6472            17                   2   \n",
      "\n",
      "        order_hour_of_day  days_since_last_order  first_order  product_id  \\\n",
      "398                    18                    NaN         True       38293   \n",
      "401                    16                    6.0        False       38293   \n",
      "436                    19                   30.0        False       13198   \n",
      "465                    18                   30.0        False       13198   \n",
      "480                    10                    9.0        False       13198   \n",
      "...                   ...                    ...          ...         ...   \n",
      "999329                  7                   30.0        False       23805   \n",
      "999332                  7                   30.0        False        9020   \n",
      "999388                  8                   13.0        False        9020   \n",
      "999394                  8                   13.0        False       38293   \n",
      "999880                 22                    3.0        False       14011   \n",
      "\n",
      "        add_to_cart_order  reordered                      product_name  \\\n",
      "398                     2          0              Ground Turkey Breast   \n",
      "401                     1          1              Ground Turkey Breast   \n",
      "436                    14          0              85% Lean Ground Beef   \n",
      "465                    22          1              85% Lean Ground Beef   \n",
      "480                    13          1              85% Lean Ground Beef   \n",
      "...                   ...        ...                               ...   \n",
      "999329                  5          1             Peppered Turkey Bacon   \n",
      "999332                  8          1  Boneless Skinless Chicken Thighs   \n",
      "999388                  1          1  Boneless Skinless Chicken Thighs   \n",
      "999394                  7          0              Ground Turkey Breast   \n",
      "999880                  9          0       Oven Roasted Chicken Breast   \n",
      "\n",
      "        aisle_id  department_id  prices _merge         price_range  \n",
      "398           35             12    19.6   both  High range product  \n",
      "401           35             12    19.6   both  High range product  \n",
      "436          122             12    23.2   both  High range product  \n",
      "465          122             12    23.2   both  High range product  \n",
      "480          122             12    23.2   both  High range product  \n",
      "...          ...            ...     ...    ...                 ...  \n",
      "999329       106             12    24.6   both  High range product  \n",
      "999332        35             12    25.0   both  High range product  \n",
      "999388        35             12    25.0   both  High range product  \n",
      "999394        35             12    19.6   both  High range product  \n",
      "999880        49             12    20.8   both  High range product  \n",
      "\n",
      "[12425 rows x 16 columns]\n"
     ]
    }
   ],
   "source": [
    "# filter df to include only values over 15 in prices\n",
    "filtered_df = df[df['prices'] > 15]\n",
    "print(filtered_df)\n"
   ]
  },
  {
   "cell_type": "code",
   "execution_count": 50,
   "id": "fec5c7e7-2f22-434f-95f4-2fe39f840197",
   "metadata": {},
   "outputs": [
    {
     "data": {
      "text/plain": [
       "orders_day_of_week\n",
       "0    6176236\n",
       "1    5632002\n",
       "6    4476684\n",
       "2    4192809\n",
       "5    4185192\n",
       "3    3822175\n",
       "4    3766714\n",
       "Name: count, dtype: int64"
      ]
     },
     "execution_count": 50,
     "metadata": {},
     "output_type": "execute_result"
    }
   ],
   "source": [
    "# check frequency 'orders_day_of_week'\n",
    "df_opm['orders_day_of_week'].value_counts(dropna = False)"
   ]
  },
  {
   "cell_type": "code",
   "execution_count": 118,
   "id": "5b62a000-7307-4e60-aff3-3bfcbf2c7993",
   "metadata": {},
   "outputs": [],
   "source": [
    "# create loop for 'orders_day_of_week' to determine busiest, least busy and regular buy days.\n",
    "result = []\n",
    "\n",
    "for value in df_opm[\"orders_day_of_week\"]:\n",
    "  if value == 0:\n",
    "    result.append(\"Busiest day\")\n",
    "  elif value == 4:\n",
    "    result.append(\"Least busy\")\n",
    "  else:\n",
    "    result.append(\"Regularly busy\")"
   ]
  },
  {
   "cell_type": "code",
   "execution_count": 120,
   "id": "fb2ce0d7-c25f-4e9c-9899-a7f817441b59",
   "metadata": {},
   "outputs": [],
   "source": [
    "# create new column 'busiest day'\n",
    "df_opm['busiest_day'] = result"
   ]
  },
  {
   "cell_type": "code",
   "execution_count": 122,
   "id": "2ce2b5fd-4eb7-40fe-a040-0c5e3358b015",
   "metadata": {},
   "outputs": [
    {
     "data": {
      "text/plain": [
       "busiest_day\n",
       "Regularly busy    22308862\n",
       "Busiest day        6176236\n",
       "Least busy         3766714\n",
       "Name: count, dtype: int64"
      ]
     },
     "execution_count": 122,
     "metadata": {},
     "output_type": "execute_result"
    }
   ],
   "source": [
    "# add column 'busiest day' to df_opm\n",
    "df_opm['busiest_day'].value_counts(dropna = False)"
   ]
  },
  {
   "cell_type": "markdown",
   "id": "79ed04b0-a939-4fa5-ae88-8234ef225fe5",
   "metadata": {},
   "source": [
    "# Exercise 4.7 Task"
   ]
  },
  {
   "cell_type": "markdown",
   "id": "7ead9031-42d0-4802-8c5c-f83249e72525",
   "metadata": {},
   "source": [
    "## Step 2\n"
   ]
  },
  {
   "cell_type": "code",
   "execution_count": 81,
   "id": "ebd8297e-d808-4f05-aa93-68fb5cd83194",
   "metadata": {},
   "outputs": [],
   "source": [
    "# create loop for 'orders_day_of_week' to determine the twommost busiest days and the two slowest days.\n",
    "result_2 = []\n",
    "\n",
    "for value in df_opm['orders_day_of_week']:\n",
    "    if value  == 0 or value == 1:\n",
    "        result_2.append('Busiest days')\n",
    "    elif value  == 3 or value == 4:\n",
    "        result_2.append('Slowest days')\n",
    "    else:\n",
    "        result_2.append('Regulary busy')"
   ]
  },
  {
   "cell_type": "code",
   "execution_count": 112,
   "id": "cd80c6ba-2dae-4430-a942-06fc6f129759",
   "metadata": {},
   "outputs": [],
   "source": [
    "# create new column 'busiest days'\n",
    "df_opm['busiest days'] = result_2"
   ]
  },
  {
   "cell_type": "code",
   "execution_count": 114,
   "id": "520cab0a-dfdb-4041-8f68-3ffc4091132a",
   "metadata": {},
   "outputs": [
    {
     "data": {
      "text/plain": [
       "busiest days\n",
       "Regulary busy    12854685\n",
       "Busiest days     11808238\n",
       "Slowest days      7588889\n",
       "Name: count, dtype: int64"
      ]
     },
     "execution_count": 114,
     "metadata": {},
     "output_type": "execute_result"
    }
   ],
   "source": [
    "# add column 'busiest days' to df_opm\n",
    "df_opm['busiest days'].value_counts(dropna = False)"
   ]
  },
  {
   "cell_type": "markdown",
   "id": "c7f526e0-a7d0-44ce-8032-3e9b49f3458c",
   "metadata": {},
   "source": [
    "## Step 4\n"
   ]
  },
  {
   "cell_type": "code",
   "execution_count": 88,
   "id": "4ec724c6-3c2c-494a-a7ed-f83de508929c",
   "metadata": {},
   "outputs": [
    {
     "data": {
      "text/plain": [
       "order_hour_of_day\n",
       "10    2748465\n",
       "11    2722881\n",
       "14    2677122\n",
       "15    2649104\n",
       "13    2648742\n",
       "12    2605713\n",
       "16    2523114\n",
       "9     2443178\n",
       "17    2078296\n",
       "8     1709698\n",
       "18    1628700\n",
       "19    1252038\n",
       "20     971676\n",
       "7      887352\n",
       "21     792389\n",
       "22     630729\n",
       "23     400040\n",
       "6      289439\n",
       "0      217402\n",
       "1      114999\n",
       "5       87561\n",
       "2       69187\n",
       "4       53044\n",
       "3       50943\n",
       "Name: count, dtype: int64"
      ]
     },
     "execution_count": 88,
     "metadata": {},
     "output_type": "execute_result"
    }
   ],
   "source": [
    "# check frequency of order_hour_of_day\n",
    "df_opm['order_hour_of_day'].value_counts(dropna = False)"
   ]
  },
  {
   "cell_type": "markdown",
   "id": "52bb65c6-7ba0-4c3c-a7a7-3337dba4a12f",
   "metadata": {},
   "source": [
    "  ### create loop for 'order_hour_of_day' to determine busiest hours of the day with:\n",
    "  \n",
    "  ###  Most orders = 207K to 274K\n",
    "  \n",
    "  ### Fewest orders = 50K to 40K\n",
    "  \n",
    "  ### Average orders = rest\n",
    "  "
   ]
  },
  {
   "cell_type": "code",
   "execution_count": 101,
   "id": "df2b02a5-cc28-4e88-a383-0ea0f8666c41",
   "metadata": {},
   "outputs": [],
   "source": [
    "# create loop for 'order_hour_of_day'\n",
    "\n",
    "result_3 = []\n",
    "\n",
    "for value in df_opm['order_hour_of_day']:\n",
    "    if value in  [10, 11, 14, 15, 13, 12, 16, 9, 17]:\n",
    "        result_3.append('Most orders')\n",
    "    elif value in  [3, 4, 2, 5, 1, 0, 6, 23]:\n",
    "        result_3.append('Fewest orders')\n",
    "    else:\n",
    "        result_3.append('Average orders')"
   ]
  },
  {
   "cell_type": "code",
   "execution_count": 108,
   "id": "f701ee8f-b1d3-4ae4-bbb1-93f6e7973a8b",
   "metadata": {},
   "outputs": [],
   "source": [
    "# create new column 'busiest_period_of_day'\n",
    "df_opm['busiest_period_of_day'] = result_3"
   ]
  },
  {
   "cell_type": "code",
   "execution_count": 110,
   "id": "a5664840-4036-4a2b-93ab-6d38392512b0",
   "metadata": {
    "scrolled": true
   },
   "outputs": [
    {
     "data": {
      "text/plain": [
       "busiest_period_of_day\n",
       "Most orders       23096615\n",
       "Average orders     7872582\n",
       "Fewest orders      1282615\n",
       "Name: count, dtype: int64"
      ]
     },
     "execution_count": 110,
     "metadata": {},
     "output_type": "execute_result"
    }
   ],
   "source": [
    "# add Column 'busiest_period_of_day' to df_opm\n",
    "df_opm['busiest_period_of_day'].value_counts(dropna = False)"
   ]
  },
  {
   "cell_type": "code",
   "execution_count": 124,
   "id": "c549e68d-2d7b-4eca-832c-6ee0530bbda6",
   "metadata": {},
   "outputs": [
    {
     "data": {
      "text/html": [
       "<div>\n",
       "<style scoped>\n",
       "    .dataframe tbody tr th:only-of-type {\n",
       "        vertical-align: middle;\n",
       "    }\n",
       "\n",
       "    .dataframe tbody tr th {\n",
       "        vertical-align: top;\n",
       "    }\n",
       "\n",
       "    .dataframe thead th {\n",
       "        text-align: right;\n",
       "    }\n",
       "</style>\n",
       "<table border=\"1\" class=\"dataframe\">\n",
       "  <thead>\n",
       "    <tr style=\"text-align: right;\">\n",
       "      <th></th>\n",
       "      <th>order_id</th>\n",
       "      <th>user_id</th>\n",
       "      <th>order_number</th>\n",
       "      <th>orders_day_of_week</th>\n",
       "      <th>order_hour_of_day</th>\n",
       "      <th>days_since_last_order</th>\n",
       "      <th>first_order</th>\n",
       "      <th>product_id</th>\n",
       "      <th>add_to_cart_order</th>\n",
       "      <th>reordered</th>\n",
       "      <th>product_name</th>\n",
       "      <th>aisle_id</th>\n",
       "      <th>department_id</th>\n",
       "      <th>prices</th>\n",
       "      <th>_merge</th>\n",
       "      <th>busiest_day</th>\n",
       "      <th>busiest days</th>\n",
       "      <th>busiest_period_of_day</th>\n",
       "    </tr>\n",
       "  </thead>\n",
       "  <tbody>\n",
       "    <tr>\n",
       "      <th>0</th>\n",
       "      <td>2539329</td>\n",
       "      <td>1</td>\n",
       "      <td>1</td>\n",
       "      <td>2</td>\n",
       "      <td>8</td>\n",
       "      <td>NaN</td>\n",
       "      <td>True</td>\n",
       "      <td>196</td>\n",
       "      <td>1</td>\n",
       "      <td>0</td>\n",
       "      <td>Soda</td>\n",
       "      <td>77</td>\n",
       "      <td>7</td>\n",
       "      <td>9.0</td>\n",
       "      <td>both</td>\n",
       "      <td>Regularly busy</td>\n",
       "      <td>Regulary busy</td>\n",
       "      <td>Average orders</td>\n",
       "    </tr>\n",
       "    <tr>\n",
       "      <th>1</th>\n",
       "      <td>2539329</td>\n",
       "      <td>1</td>\n",
       "      <td>1</td>\n",
       "      <td>2</td>\n",
       "      <td>8</td>\n",
       "      <td>NaN</td>\n",
       "      <td>True</td>\n",
       "      <td>14084</td>\n",
       "      <td>2</td>\n",
       "      <td>0</td>\n",
       "      <td>Organic Unsweetened Vanilla Almond Milk</td>\n",
       "      <td>91</td>\n",
       "      <td>16</td>\n",
       "      <td>12.5</td>\n",
       "      <td>both</td>\n",
       "      <td>Regularly busy</td>\n",
       "      <td>Regulary busy</td>\n",
       "      <td>Average orders</td>\n",
       "    </tr>\n",
       "    <tr>\n",
       "      <th>2</th>\n",
       "      <td>2539329</td>\n",
       "      <td>1</td>\n",
       "      <td>1</td>\n",
       "      <td>2</td>\n",
       "      <td>8</td>\n",
       "      <td>NaN</td>\n",
       "      <td>True</td>\n",
       "      <td>12427</td>\n",
       "      <td>3</td>\n",
       "      <td>0</td>\n",
       "      <td>Original Beef Jerky</td>\n",
       "      <td>23</td>\n",
       "      <td>19</td>\n",
       "      <td>4.4</td>\n",
       "      <td>both</td>\n",
       "      <td>Regularly busy</td>\n",
       "      <td>Regulary busy</td>\n",
       "      <td>Average orders</td>\n",
       "    </tr>\n",
       "    <tr>\n",
       "      <th>3</th>\n",
       "      <td>2539329</td>\n",
       "      <td>1</td>\n",
       "      <td>1</td>\n",
       "      <td>2</td>\n",
       "      <td>8</td>\n",
       "      <td>NaN</td>\n",
       "      <td>True</td>\n",
       "      <td>26088</td>\n",
       "      <td>4</td>\n",
       "      <td>0</td>\n",
       "      <td>Aged White Cheddar Popcorn</td>\n",
       "      <td>23</td>\n",
       "      <td>19</td>\n",
       "      <td>4.7</td>\n",
       "      <td>both</td>\n",
       "      <td>Regularly busy</td>\n",
       "      <td>Regulary busy</td>\n",
       "      <td>Average orders</td>\n",
       "    </tr>\n",
       "    <tr>\n",
       "      <th>4</th>\n",
       "      <td>2539329</td>\n",
       "      <td>1</td>\n",
       "      <td>1</td>\n",
       "      <td>2</td>\n",
       "      <td>8</td>\n",
       "      <td>NaN</td>\n",
       "      <td>True</td>\n",
       "      <td>26405</td>\n",
       "      <td>5</td>\n",
       "      <td>0</td>\n",
       "      <td>XL Pick-A-Size Paper Towel Rolls</td>\n",
       "      <td>54</td>\n",
       "      <td>17</td>\n",
       "      <td>1.0</td>\n",
       "      <td>both</td>\n",
       "      <td>Regularly busy</td>\n",
       "      <td>Regulary busy</td>\n",
       "      <td>Average orders</td>\n",
       "    </tr>\n",
       "  </tbody>\n",
       "</table>\n",
       "</div>"
      ],
      "text/plain": [
       "   order_id  user_id  order_number  orders_day_of_week  order_hour_of_day  \\\n",
       "0   2539329        1             1                   2                  8   \n",
       "1   2539329        1             1                   2                  8   \n",
       "2   2539329        1             1                   2                  8   \n",
       "3   2539329        1             1                   2                  8   \n",
       "4   2539329        1             1                   2                  8   \n",
       "\n",
       "   days_since_last_order  first_order  product_id  add_to_cart_order  \\\n",
       "0                    NaN         True         196                  1   \n",
       "1                    NaN         True       14084                  2   \n",
       "2                    NaN         True       12427                  3   \n",
       "3                    NaN         True       26088                  4   \n",
       "4                    NaN         True       26405                  5   \n",
       "\n",
       "   reordered                             product_name  aisle_id  \\\n",
       "0          0                                     Soda        77   \n",
       "1          0  Organic Unsweetened Vanilla Almond Milk        91   \n",
       "2          0                      Original Beef Jerky        23   \n",
       "3          0               Aged White Cheddar Popcorn        23   \n",
       "4          0         XL Pick-A-Size Paper Towel Rolls        54   \n",
       "\n",
       "   department_id  prices _merge     busiest_day   busiest days  \\\n",
       "0              7     9.0   both  Regularly busy  Regulary busy   \n",
       "1             16    12.5   both  Regularly busy  Regulary busy   \n",
       "2             19     4.4   both  Regularly busy  Regulary busy   \n",
       "3             19     4.7   both  Regularly busy  Regulary busy   \n",
       "4             17     1.0   both  Regularly busy  Regulary busy   \n",
       "\n",
       "  busiest_period_of_day  \n",
       "0        Average orders  \n",
       "1        Average orders  \n",
       "2        Average orders  \n",
       "3        Average orders  \n",
       "4        Average orders  "
      ]
     },
     "execution_count": 124,
     "metadata": {},
     "output_type": "execute_result"
    }
   ],
   "source": [
    "df_opm.head()"
   ]
  },
  {
   "cell_type": "markdown",
   "id": "2038e1ba-ad4c-4790-a83d-6d89407761e9",
   "metadata": {},
   "source": [
    "# Exporting Data"
   ]
  },
  {
   "cell_type": "code",
   "execution_count": 127,
   "id": "eff8e3e0-89ea-4a8b-be17-3e4ecda0842b",
   "metadata": {},
   "outputs": [],
   "source": []
  },
  {
   "cell_type": "code",
   "execution_count": null,
   "id": "9bdaa5ee-f19e-4ea1-9465-fea04cf0c066",
   "metadata": {},
   "outputs": [],
   "source": []
  }
 ],
 "metadata": {
  "kernelspec": {
   "display_name": "Python 3 (ipykernel)",
   "language": "python",
   "name": "python3"
  },
  "language_info": {
   "codemirror_mode": {
    "name": "ipython",
    "version": 3
   },
   "file_extension": ".py",
   "mimetype": "text/x-python",
   "name": "python",
   "nbconvert_exporter": "python",
   "pygments_lexer": "ipython3",
   "version": "3.12.7"
  }
 },
 "nbformat": 4,
 "nbformat_minor": 5
}
