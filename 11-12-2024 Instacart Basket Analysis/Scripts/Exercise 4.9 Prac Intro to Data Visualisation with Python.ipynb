{
 "cells": [
  {
   "cell_type": "markdown",
   "id": "2b0e5931-af22-4b62-a129-bb26726aaccc",
   "metadata": {},
   "source": [
    "# Exercise 4.9"
   ]
  },
  {
   "cell_type": "markdown",
   "id": "6fea6b97-f59e-4a46-a226-04596ad87697",
   "metadata": {},
   "source": [
    "# Index\n",
    "\n",
    "01 Importing Libraries\n",
    "\n",
    "02 Importing Data\n",
    "\n",
    "03 Creating Bar Charts\n",
    "\n",
    "04 Exporting Bar Charts\n",
    "\n",
    "05 Creating Histograms and Scatterplots\n",
    "\n",
    "06 Exporting Histogram\n",
    "\n",
    "0"
   ]
  },
  {
   "cell_type": "markdown",
   "id": "89c8cb3d-470a-4576-b94b-ecd7a6a1103b",
   "metadata": {},
   "source": [
    "# 01. Importing Libraries"
   ]
  },
  {
   "cell_type": "code",
   "execution_count": 3,
   "id": "289cfbdd-e0ab-4fdb-a8d4-62b452294bbe",
   "metadata": {},
   "outputs": [],
   "source": [
    "# import libraries\n",
    "import pandas as pd\n",
    "import numpy as np\n",
    "import os\n",
    "import matplotlib.pyplot as plt\n",
    "import seaborn as sns\n",
    "import scipy"
   ]
  },
  {
   "cell_type": "markdown",
   "id": "4f5b7de8-5ffe-438f-b28a-bfe1b3da92ec",
   "metadata": {},
   "source": [
    "# 02. Importing Data"
   ]
  },
  {
   "cell_type": "code",
   "execution_count": 6,
   "id": "d60413d3-7683-47ac-85ea-591ebeb17a9a",
   "metadata": {},
   "outputs": [],
   "source": [
    "# create path\n",
    "path = r'C:\\Users\\kthav\\My Pc\\Desktop\\Career Foundry\\Data Immersion\\Python Fundamentals for Data Analytics\\11-12-2024 Instacart Basket Analysis'"
   ]
  },
  {
   "cell_type": "code",
   "execution_count": 8,
   "id": "f725eba0-9395-4b45-85c5-5470c4a985f5",
   "metadata": {},
   "outputs": [
    {
     "data": {
      "text/plain": [
       "'C:\\\\Users\\\\kthav\\\\My Pc\\\\Desktop\\\\Career Foundry\\\\Data Immersion\\\\Python Fundamentals for Data Analytics\\\\11-12-2024 Instacart Basket Analysis'"
      ]
     },
     "execution_count": 8,
     "metadata": {},
     "output_type": "execute_result"
    }
   ],
   "source": [
    "path\n"
   ]
  },
  {
   "cell_type": "code",
   "execution_count": 10,
   "id": "85bda0dc-b22c-4ed8-a63b-809a84ac9a98",
   "metadata": {},
   "outputs": [],
   "source": [
    "# import 'orders_products_merged_filtered_flagged.pkl' as df_opm\n",
    "df_opm = pd.read_pickle(os.path.join(path, 'Data', 'Prepared Data', 'orders_products_merged_filtered_flagged.pkl'))"
   ]
  },
  {
   "cell_type": "code",
   "execution_count": 12,
   "id": "1ea2054a-a96b-4f88-9bd4-fad86e21cb70",
   "metadata": {},
   "outputs": [
    {
     "data": {
      "text/plain": [
       "(32246709, 24)"
      ]
     },
     "execution_count": 12,
     "metadata": {},
     "output_type": "execute_result"
    }
   ],
   "source": [
    "df_opm.shape\n"
   ]
  },
  {
   "cell_type": "code",
   "execution_count": 14,
   "id": "43d00d8f-99f4-4383-ae58-e153262b5bf5",
   "metadata": {},
   "outputs": [
    {
     "data": {
      "text/html": [
       "<div>\n",
       "<style scoped>\n",
       "    .dataframe tbody tr th:only-of-type {\n",
       "        vertical-align: middle;\n",
       "    }\n",
       "\n",
       "    .dataframe tbody tr th {\n",
       "        vertical-align: top;\n",
       "    }\n",
       "\n",
       "    .dataframe thead th {\n",
       "        text-align: right;\n",
       "    }\n",
       "</style>\n",
       "<table border=\"1\" class=\"dataframe\">\n",
       "  <thead>\n",
       "    <tr style=\"text-align: right;\">\n",
       "      <th></th>\n",
       "      <th>order_id</th>\n",
       "      <th>user_id</th>\n",
       "      <th>order_number</th>\n",
       "      <th>orders_day_of_week</th>\n",
       "      <th>order_hour_of_day</th>\n",
       "      <th>days_since_last_order</th>\n",
       "      <th>first_order</th>\n",
       "      <th>product_id</th>\n",
       "      <th>add_to_cart_order</th>\n",
       "      <th>reordered</th>\n",
       "      <th>...</th>\n",
       "      <th>_merge</th>\n",
       "      <th>busiest_day</th>\n",
       "      <th>busiest days</th>\n",
       "      <th>busiest_period_of_day</th>\n",
       "      <th>max_order</th>\n",
       "      <th>loyalty_flag</th>\n",
       "      <th>average_spend</th>\n",
       "      <th>spender_flag</th>\n",
       "      <th>customer_frequency</th>\n",
       "      <th>frequency_flag</th>\n",
       "    </tr>\n",
       "  </thead>\n",
       "  <tbody>\n",
       "    <tr>\n",
       "      <th>0</th>\n",
       "      <td>2539329</td>\n",
       "      <td>1</td>\n",
       "      <td>1</td>\n",
       "      <td>2</td>\n",
       "      <td>8</td>\n",
       "      <td>NaN</td>\n",
       "      <td>True</td>\n",
       "      <td>196</td>\n",
       "      <td>1</td>\n",
       "      <td>0</td>\n",
       "      <td>...</td>\n",
       "      <td>both</td>\n",
       "      <td>Regularly busy</td>\n",
       "      <td>Regulary busy</td>\n",
       "      <td>Average orders</td>\n",
       "      <td>10</td>\n",
       "      <td>New customer</td>\n",
       "      <td>6.367797</td>\n",
       "      <td>Low_spender</td>\n",
       "      <td>20.5</td>\n",
       "      <td>Non-frequent customer</td>\n",
       "    </tr>\n",
       "    <tr>\n",
       "      <th>1</th>\n",
       "      <td>2539329</td>\n",
       "      <td>1</td>\n",
       "      <td>1</td>\n",
       "      <td>2</td>\n",
       "      <td>8</td>\n",
       "      <td>NaN</td>\n",
       "      <td>True</td>\n",
       "      <td>14084</td>\n",
       "      <td>2</td>\n",
       "      <td>0</td>\n",
       "      <td>...</td>\n",
       "      <td>both</td>\n",
       "      <td>Regularly busy</td>\n",
       "      <td>Regulary busy</td>\n",
       "      <td>Average orders</td>\n",
       "      <td>10</td>\n",
       "      <td>New customer</td>\n",
       "      <td>6.367797</td>\n",
       "      <td>Low_spender</td>\n",
       "      <td>20.5</td>\n",
       "      <td>Non-frequent customer</td>\n",
       "    </tr>\n",
       "    <tr>\n",
       "      <th>2</th>\n",
       "      <td>2539329</td>\n",
       "      <td>1</td>\n",
       "      <td>1</td>\n",
       "      <td>2</td>\n",
       "      <td>8</td>\n",
       "      <td>NaN</td>\n",
       "      <td>True</td>\n",
       "      <td>12427</td>\n",
       "      <td>3</td>\n",
       "      <td>0</td>\n",
       "      <td>...</td>\n",
       "      <td>both</td>\n",
       "      <td>Regularly busy</td>\n",
       "      <td>Regulary busy</td>\n",
       "      <td>Average orders</td>\n",
       "      <td>10</td>\n",
       "      <td>New customer</td>\n",
       "      <td>6.367797</td>\n",
       "      <td>Low_spender</td>\n",
       "      <td>20.5</td>\n",
       "      <td>Non-frequent customer</td>\n",
       "    </tr>\n",
       "    <tr>\n",
       "      <th>3</th>\n",
       "      <td>2539329</td>\n",
       "      <td>1</td>\n",
       "      <td>1</td>\n",
       "      <td>2</td>\n",
       "      <td>8</td>\n",
       "      <td>NaN</td>\n",
       "      <td>True</td>\n",
       "      <td>26088</td>\n",
       "      <td>4</td>\n",
       "      <td>0</td>\n",
       "      <td>...</td>\n",
       "      <td>both</td>\n",
       "      <td>Regularly busy</td>\n",
       "      <td>Regulary busy</td>\n",
       "      <td>Average orders</td>\n",
       "      <td>10</td>\n",
       "      <td>New customer</td>\n",
       "      <td>6.367797</td>\n",
       "      <td>Low_spender</td>\n",
       "      <td>20.5</td>\n",
       "      <td>Non-frequent customer</td>\n",
       "    </tr>\n",
       "    <tr>\n",
       "      <th>4</th>\n",
       "      <td>2539329</td>\n",
       "      <td>1</td>\n",
       "      <td>1</td>\n",
       "      <td>2</td>\n",
       "      <td>8</td>\n",
       "      <td>NaN</td>\n",
       "      <td>True</td>\n",
       "      <td>26405</td>\n",
       "      <td>5</td>\n",
       "      <td>0</td>\n",
       "      <td>...</td>\n",
       "      <td>both</td>\n",
       "      <td>Regularly busy</td>\n",
       "      <td>Regulary busy</td>\n",
       "      <td>Average orders</td>\n",
       "      <td>10</td>\n",
       "      <td>New customer</td>\n",
       "      <td>6.367797</td>\n",
       "      <td>Low_spender</td>\n",
       "      <td>20.5</td>\n",
       "      <td>Non-frequent customer</td>\n",
       "    </tr>\n",
       "    <tr>\n",
       "      <th>5</th>\n",
       "      <td>2398795</td>\n",
       "      <td>1</td>\n",
       "      <td>2</td>\n",
       "      <td>3</td>\n",
       "      <td>7</td>\n",
       "      <td>15.0</td>\n",
       "      <td>False</td>\n",
       "      <td>196</td>\n",
       "      <td>1</td>\n",
       "      <td>1</td>\n",
       "      <td>...</td>\n",
       "      <td>both</td>\n",
       "      <td>Regularly busy</td>\n",
       "      <td>Slowest days</td>\n",
       "      <td>Average orders</td>\n",
       "      <td>10</td>\n",
       "      <td>New customer</td>\n",
       "      <td>6.367797</td>\n",
       "      <td>Low_spender</td>\n",
       "      <td>20.5</td>\n",
       "      <td>Non-frequent customer</td>\n",
       "    </tr>\n",
       "    <tr>\n",
       "      <th>6</th>\n",
       "      <td>2398795</td>\n",
       "      <td>1</td>\n",
       "      <td>2</td>\n",
       "      <td>3</td>\n",
       "      <td>7</td>\n",
       "      <td>15.0</td>\n",
       "      <td>False</td>\n",
       "      <td>10258</td>\n",
       "      <td>2</td>\n",
       "      <td>0</td>\n",
       "      <td>...</td>\n",
       "      <td>both</td>\n",
       "      <td>Regularly busy</td>\n",
       "      <td>Slowest days</td>\n",
       "      <td>Average orders</td>\n",
       "      <td>10</td>\n",
       "      <td>New customer</td>\n",
       "      <td>6.367797</td>\n",
       "      <td>Low_spender</td>\n",
       "      <td>20.5</td>\n",
       "      <td>Non-frequent customer</td>\n",
       "    </tr>\n",
       "    <tr>\n",
       "      <th>7</th>\n",
       "      <td>2398795</td>\n",
       "      <td>1</td>\n",
       "      <td>2</td>\n",
       "      <td>3</td>\n",
       "      <td>7</td>\n",
       "      <td>15.0</td>\n",
       "      <td>False</td>\n",
       "      <td>12427</td>\n",
       "      <td>3</td>\n",
       "      <td>1</td>\n",
       "      <td>...</td>\n",
       "      <td>both</td>\n",
       "      <td>Regularly busy</td>\n",
       "      <td>Slowest days</td>\n",
       "      <td>Average orders</td>\n",
       "      <td>10</td>\n",
       "      <td>New customer</td>\n",
       "      <td>6.367797</td>\n",
       "      <td>Low_spender</td>\n",
       "      <td>20.5</td>\n",
       "      <td>Non-frequent customer</td>\n",
       "    </tr>\n",
       "    <tr>\n",
       "      <th>8</th>\n",
       "      <td>2398795</td>\n",
       "      <td>1</td>\n",
       "      <td>2</td>\n",
       "      <td>3</td>\n",
       "      <td>7</td>\n",
       "      <td>15.0</td>\n",
       "      <td>False</td>\n",
       "      <td>13176</td>\n",
       "      <td>4</td>\n",
       "      <td>0</td>\n",
       "      <td>...</td>\n",
       "      <td>both</td>\n",
       "      <td>Regularly busy</td>\n",
       "      <td>Slowest days</td>\n",
       "      <td>Average orders</td>\n",
       "      <td>10</td>\n",
       "      <td>New customer</td>\n",
       "      <td>6.367797</td>\n",
       "      <td>Low_spender</td>\n",
       "      <td>20.5</td>\n",
       "      <td>Non-frequent customer</td>\n",
       "    </tr>\n",
       "    <tr>\n",
       "      <th>9</th>\n",
       "      <td>2398795</td>\n",
       "      <td>1</td>\n",
       "      <td>2</td>\n",
       "      <td>3</td>\n",
       "      <td>7</td>\n",
       "      <td>15.0</td>\n",
       "      <td>False</td>\n",
       "      <td>26088</td>\n",
       "      <td>5</td>\n",
       "      <td>1</td>\n",
       "      <td>...</td>\n",
       "      <td>both</td>\n",
       "      <td>Regularly busy</td>\n",
       "      <td>Slowest days</td>\n",
       "      <td>Average orders</td>\n",
       "      <td>10</td>\n",
       "      <td>New customer</td>\n",
       "      <td>6.367797</td>\n",
       "      <td>Low_spender</td>\n",
       "      <td>20.5</td>\n",
       "      <td>Non-frequent customer</td>\n",
       "    </tr>\n",
       "  </tbody>\n",
       "</table>\n",
       "<p>10 rows × 24 columns</p>\n",
       "</div>"
      ],
      "text/plain": [
       "   order_id  user_id  order_number  orders_day_of_week  order_hour_of_day  \\\n",
       "0   2539329        1             1                   2                  8   \n",
       "1   2539329        1             1                   2                  8   \n",
       "2   2539329        1             1                   2                  8   \n",
       "3   2539329        1             1                   2                  8   \n",
       "4   2539329        1             1                   2                  8   \n",
       "5   2398795        1             2                   3                  7   \n",
       "6   2398795        1             2                   3                  7   \n",
       "7   2398795        1             2                   3                  7   \n",
       "8   2398795        1             2                   3                  7   \n",
       "9   2398795        1             2                   3                  7   \n",
       "\n",
       "   days_since_last_order  first_order  product_id  add_to_cart_order  \\\n",
       "0                    NaN         True         196                  1   \n",
       "1                    NaN         True       14084                  2   \n",
       "2                    NaN         True       12427                  3   \n",
       "3                    NaN         True       26088                  4   \n",
       "4                    NaN         True       26405                  5   \n",
       "5                   15.0        False         196                  1   \n",
       "6                   15.0        False       10258                  2   \n",
       "7                   15.0        False       12427                  3   \n",
       "8                   15.0        False       13176                  4   \n",
       "9                   15.0        False       26088                  5   \n",
       "\n",
       "   reordered  ... _merge     busiest_day   busiest days  \\\n",
       "0          0  ...   both  Regularly busy  Regulary busy   \n",
       "1          0  ...   both  Regularly busy  Regulary busy   \n",
       "2          0  ...   both  Regularly busy  Regulary busy   \n",
       "3          0  ...   both  Regularly busy  Regulary busy   \n",
       "4          0  ...   both  Regularly busy  Regulary busy   \n",
       "5          1  ...   both  Regularly busy   Slowest days   \n",
       "6          0  ...   both  Regularly busy   Slowest days   \n",
       "7          1  ...   both  Regularly busy   Slowest days   \n",
       "8          0  ...   both  Regularly busy   Slowest days   \n",
       "9          1  ...   both  Regularly busy   Slowest days   \n",
       "\n",
       "   busiest_period_of_day max_order  loyalty_flag average_spend spender_flag  \\\n",
       "0         Average orders        10  New customer      6.367797  Low_spender   \n",
       "1         Average orders        10  New customer      6.367797  Low_spender   \n",
       "2         Average orders        10  New customer      6.367797  Low_spender   \n",
       "3         Average orders        10  New customer      6.367797  Low_spender   \n",
       "4         Average orders        10  New customer      6.367797  Low_spender   \n",
       "5         Average orders        10  New customer      6.367797  Low_spender   \n",
       "6         Average orders        10  New customer      6.367797  Low_spender   \n",
       "7         Average orders        10  New customer      6.367797  Low_spender   \n",
       "8         Average orders        10  New customer      6.367797  Low_spender   \n",
       "9         Average orders        10  New customer      6.367797  Low_spender   \n",
       "\n",
       "   customer_frequency         frequency_flag  \n",
       "0                20.5  Non-frequent customer  \n",
       "1                20.5  Non-frequent customer  \n",
       "2                20.5  Non-frequent customer  \n",
       "3                20.5  Non-frequent customer  \n",
       "4                20.5  Non-frequent customer  \n",
       "5                20.5  Non-frequent customer  \n",
       "6                20.5  Non-frequent customer  \n",
       "7                20.5  Non-frequent customer  \n",
       "8                20.5  Non-frequent customer  \n",
       "9                20.5  Non-frequent customer  \n",
       "\n",
       "[10 rows x 24 columns]"
      ]
     },
     "execution_count": 14,
     "metadata": {},
     "output_type": "execute_result"
    }
   ],
   "source": [
    "df_opm.head(10)"
   ]
  },
  {
   "cell_type": "markdown",
   "id": "6ef87f5f-36b1-4335-8a79-efb43386db58",
   "metadata": {},
   "source": [
    "# 03. Creating Bar Charts"
   ]
  },
  {
   "cell_type": "code",
   "execution_count": 17,
   "id": "5b9bbf9b-30ce-459b-a8a3-6ebc653ccf10",
   "metadata": {},
   "outputs": [
    {
     "data": {
      "text/plain": [
       "<Axes: xlabel='orders_day_of_week'>"
      ]
     },
     "execution_count": 17,
     "metadata": {},
     "output_type": "execute_result"
    },
    {
     "data": {
      "image/png": "[encoded data removed]",
      "text/plain": [
       "<Figure size 640x480 with 1 Axes>"
      ]
     },
     "metadata": {},
     "output_type": "display_data"
    }
   ],
   "source": [
    "# create bar chart for 'order_day_of_week'\n",
    "df_opm['orders_day_of_week'].value_counts().plot.bar()"
   ]
  },
  {
   "cell_type": "markdown",
   "id": "68130c22-bfd5-45c0-b8b0-2a0b1b381711",
   "metadata": {},
   "source": [
    "# 04. Exporting Bar Charts"
   ]
  },
  {
   "cell_type": "code",
   "execution_count": 20,
   "id": "8cd07af1-a5df-43df-b133-cdca7f0a59ce",
   "metadata": {},
   "outputs": [
    {
     "data": {
      "image/png": "[encoded data removed]",
      "text/plain": [
       "<Figure size 640x480 with 1 Axes>"
      ]
     },
     "metadata": {},
     "output_type": "display_data"
    }
   ],
   "source": [
    "# saving bar chart\n",
    "bar = df_opm['orders_day_of_week'].value_counts().plot.bar(color =['purple', 'red', 'pink', 'orange', 'yellow', 'green', 'blue'])"
   ]
  },
  {
   "cell_type": "code",
   "execution_count": 28,
   "id": "aff538ac-5869-4527-bdab-5e5769494c23",
   "metadata": {},
   "outputs": [],
   "source": [
    "# saving bar chart 'orders_day_of_week'\n",
    "bar.figure.savefig(os.path.join(path, 'Analysis', 'Visualisations', 'bar_orders_dow.png'))"
   ]
  },
  {
   "cell_type": "markdown",
   "id": "425d7179-cc5e-4bd5-9077-d567bd04b347",
   "metadata": {},
   "source": [
    "# 05. Creating Histograms and Scatterplots"
   ]
  },
  {
   "cell_type": "code",
   "execution_count": 23,
   "id": "614c0c6d-0bea-47b0-94f6-98a7b81f2c80",
   "metadata": {},
   "outputs": [
    {
     "data": {
      "text/plain": [
       "<Axes: ylabel='Frequency'>"
      ]
     },
     "execution_count": 23,
     "metadata": {},
     "output_type": "execute_result"
    },
    {
     "data": {
      "image/png": "[encoded data removed]",
      "text/plain": [
       "<Figure size 640x480 with 1 Axes>"
      ]
     },
     "metadata": {},
     "output_type": "display_data"
    }
   ],
   "source": [
    "# create histogram for 'prices'\n",
    "df_opm['prices'].plot.hist(bins = 25)"
   ]
  },
  {
   "cell_type": "markdown",
   "id": "15016e4a-bb2a-4d9e-b7fd-29ccef3e21c0",
   "metadata": {},
   "source": [
    "## *data was cleaned in previous exercise*"
   ]
  },
  {
   "cell_type": "code",
   "execution_count": 27,
   "id": "1d7f5a82-a368-4bbd-ad6f-7857dc039043",
   "metadata": {},
   "outputs": [
    {
     "data": {
      "text/plain": [
       "<Axes: xlabel='prices', ylabel='prices'>"
      ]
     },
     "execution_count": 27,
     "metadata": {},
     "output_type": "execute_result"
    },
    {
     "data": {
      "image/png": "[encoded data removed]",
      "text/plain": [
       "<Figure size 640x480 with 1 Axes>"
      ]
     },
     "metadata": {},
     "output_type": "display_data"
    }
   ],
   "source": [
    "# create scatterplot for 'prices'\n",
    "sns.scatterplot( x = 'prices', y = 'prices', data = df_opm)"
   ]
  },
  {
   "cell_type": "code",
   "execution_count": 25,
   "id": "bfbe341a-28a4-4de6-ae04-d192e5a0a100",
   "metadata": {},
   "outputs": [
    {
     "data": {
      "image/png": "[encoded data removed]",
      "text/plain": [
       "<Figure size 640x480 with 1 Axes>"
      ]
     },
     "metadata": {},
     "output_type": "display_data"
    }
   ],
   "source": [
    "# create histogram for 'prices with 70 bins\n",
    "hist_2 = df_opm['prices'].plot.hist(bins = 70)"
   ]
  },
  {
   "cell_type": "markdown",
   "id": "1daea916-ca0b-4b08-8c9e-f4c7ebe2ca86",
   "metadata": {},
   "source": [
    "# 06. Exporting Histograms"
   ]
  },
  {
   "cell_type": "code",
   "execution_count": 30,
   "id": "8045b40b-e85b-484a-b57e-c15236caf753",
   "metadata": {},
   "outputs": [],
   "source": [
    "# saving histogram 'prices'\n",
    "hist_2.figure.savefig(os.path.join(path, 'Analysis', 'Visualisations', 'hist_prices'))"
   ]
  },
  {
   "cell_type": "markdown",
   "id": "e45d5244-9d31-4a9a-9276-2ef0bebf4a83",
   "metadata": {},
   "source": [
    "# 07. Creating Line Charts"
   ]
  },
  {
   "cell_type": "markdown",
   "id": "ef246a5e-97ab-44da-a8cc-282e57bb0c7f",
   "metadata": {},
   "source": [
    "## Creating Sampling Data"
   ]
  },
  {
   "cell_type": "code",
   "execution_count": 45,
   "id": "74be31e0-201c-4dd3-8592-543788d9bdd0",
   "metadata": {},
   "outputs": [],
   "source": [
    "# create a list holding True/False values to the test np.random.rand() <=0.7\n",
    "np.random.seed(4)\n",
    "dev = np.random.rand(len(df_opm)) <= 0.7"
   ]
  },
  {
   "cell_type": "code",
   "execution_count": 39,
   "id": "93c0a981-8715-4786-855f-c5a17b5cccc3",
   "metadata": {},
   "outputs": [
    {
     "data": {
      "text/plain": [
       "array([False,  True, False, ...,  True,  True,  True])"
      ]
     },
     "execution_count": 39,
     "metadata": {},
     "output_type": "execute_result"
    }
   ],
   "source": [
    "dev"
   ]
  },
  {
   "cell_type": "code",
   "execution_count": 43,
   "id": "42cb9c9b-2d0c-4a93-a098-e337d6cda8e0",
   "metadata": {},
   "outputs": [
    {
     "data": {
      "text/plain": [
       "array([0.18958267, 0.53437627, 0.69306894, 0.85997255, 0.29948058,\n",
       "       0.30917802, 0.84685248, 0.86164328, 0.25421849, 0.47408394])"
      ]
     },
     "execution_count": 43,
     "metadata": {},
     "output_type": "execute_result"
    }
   ],
   "source": [
    "np.random.rand(10)"
   ]
  },
  {
   "cell_type": "code",
   "execution_count": 47,
   "id": "b1a504e2-07e8-41e5-bc08-048fce43cc48",
   "metadata": {},
   "outputs": [],
   "source": [
    "# store 70% of the sample in the dataframe big\n",
    "big = df_opm[dev]"
   ]
  },
  {
   "cell_type": "code",
   "execution_count": 49,
   "id": "bc4c300d-0c2e-4066-9eb8-a6a13df18763",
   "metadata": {},
   "outputs": [],
   "source": [
    "# store 30% of the sample in the dataframe samll\n",
    "small = df_opm[~dev]"
   ]
  },
  {
   "cell_type": "code",
   "execution_count": 51,
   "id": "b7c65586-023a-49b6-be2b-a01ae400787a",
   "metadata": {},
   "outputs": [
    {
     "data": {
      "text/plain": [
       "32246709"
      ]
     },
     "execution_count": 51,
     "metadata": {},
     "output_type": "execute_result"
    }
   ],
   "source": [
    "# test sample correctness\n",
    "len(df_opm)"
   ]
  },
  {
   "cell_type": "code",
   "execution_count": 53,
   "id": "269a83aa-a383-4cda-a7f2-9ef55d61030d",
   "metadata": {},
   "outputs": [
    {
     "data": {
      "text/plain": [
       "32246709"
      ]
     },
     "execution_count": 53,
     "metadata": {},
     "output_type": "execute_result"
    }
   ],
   "source": [
    "len(big) + len(small)"
   ]
  },
  {
   "cell_type": "code",
   "execution_count": 55,
   "id": "44f6e9b7-db3f-4c03-afbb-4df45d3b5032",
   "metadata": {},
   "outputs": [],
   "source": [
    "# reduce sample to only the necessary columns ie. 'orders_day_of_week' & 'prices'\n",
    "df_2 = small[['orders_day_of_week', 'prices']]"
   ]
  },
  {
   "cell_type": "code",
   "execution_count": 59,
   "id": "e0acdcf2-c5d8-4676-80a1-abc600879a78",
   "metadata": {},
   "outputs": [
    {
     "data": {
      "image/png": "[encoded data removed]",
      "text/plain": [
       "<Figure size 640x480 with 1 Axes>"
      ]
     },
     "metadata": {},
     "output_type": "display_data"
    }
   ],
   "source": [
    "# create line chart for 'orders_day_of_week' and 'prices'\n",
    "line = sns.lineplot(data = df_2, x = 'orders_day_of_week', y = 'prices')"
   ]
  },
  {
   "cell_type": "markdown",
   "id": "acb03d76-f3a3-4022-bc5d-8596223ca570",
   "metadata": {},
   "source": [
    "# 08. Exporting Line Charts"
   ]
  },
  {
   "cell_type": "code",
   "execution_count": 64,
   "id": "8c80acd6-78a5-4918-b0f9-a91e61f99873",
   "metadata": {},
   "outputs": [],
   "source": [
    "# saving line chart 'orders_day_of_week' and prices\n",
    "line.figure.savefig(os.path.join(path, 'Analysis', 'Visualisations', 'line_chart_dow_prices.png'))"
   ]
  },
  {
   "cell_type": "code",
   "execution_count": null,
   "id": "0c1f0eb9-8cc8-4bfe-8759-8f5e38b7e38b",
   "metadata": {},
   "outputs": [],
   "source": []
  }
 ],
 "metadata": {
  "kernelspec": {
   "display_name": "Python 3 (ipykernel)",
   "language": "python",
   "name": "python3"
  },
  "language_info": {
   "codemirror_mode": {
    "name": "ipython",
    "version": 3
   },
   "file_extension": ".py",
   "mimetype": "text/x-python",
   "name": "python",
   "nbconvert_exporter": "python",
   "pygments_lexer": "ipython3",
   "version": "3.12.7"
  }
 },
 "nbformat": 4,
 "nbformat_minor": 5
}
